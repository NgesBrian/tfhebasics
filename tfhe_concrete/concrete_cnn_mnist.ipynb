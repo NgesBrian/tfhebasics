{
 "cells": [
  {
   "cell_type": "code",
   "execution_count": null,
   "metadata": {},
   "outputs": [],
   "source": [
    "\n",
    "import time\n",
    "\n",
    "import matplotlib.pyplot as plt\n",
    "import numpy as np\n",
    "from joblib import Memory\n",
    "from sklearn.datasets import fetch_openml\n",
    "from sklearn.metrics import accuracy_score\n",
    "from sklearn.model_selection import train_test_split\n",
    "from torch import nn\n",
    "\n",
    "from concrete.ml.sklearn import NeuralNetClassifier"
   ]
  },
  {
   "cell_type": "code",
   "execution_count": null,
   "metadata": {},
   "outputs": [],
   "source": [
    "\n",
    "\n",
    "# scikit-learn's fetch_openml method doesn't handle local cache:\n",
    "# https://github.com/scikit-learn/scikit-learn/issues/18783#issuecomment-723471498\n",
    "# This is a workaround that prevents downloading the data every time the notebook is ran\n",
    "memory = Memory(\"./data/MNIST\")\n",
    "fetch_openml_cached = memory.cache(fetch_openml)\n",
    "\n",
    "# Fetch the MNIST data-set, with inputs already flattened\n",
    "mnist_dataset = fetch_openml_cached(\"mnist_784\")\n",
    "     \n"
   ]
  },
  {
   "cell_type": "code",
   "execution_count": null,
   "metadata": {},
   "outputs": [],
   "source": [
    "# Define max, mean and std values for the MNIST data-set\n",
    "max_value = 255\n",
    "mean = 0.1307\n",
    "std = 0.3081\n",
    "\n",
    "# Normalize the training data\n",
    "data = (mnist_dataset.data) / max_value\n",
    "data = ((data - mean) / std).round(decimals=4)\n",
    "\n",
    "# Concrete ML's NNs do not support: category, str, object types\n",
    "# FIXME: https://github.com/zama-ai/concrete-ml-internal/issues/2990\n",
    "target = mnist_dataset.target.astype(\"int\")"
   ]
  },
  {
   "cell_type": "code",
   "execution_count": null,
   "metadata": {},
   "outputs": [],
   "source": [
    "\n",
    "test_size = 10000\n",
    "x_train, x_test, y_train, y_test = train_test_split(\n",
    "    data, target, test_size=test_size, random_state=0\n",
    ")\n",
    "     "
   ]
  },
  {
   "cell_type": "code",
   "execution_count": null,
   "metadata": {},
   "outputs": [],
   "source": [
    "\n",
    "def plot_samples(data, targets, n_samples=5, title=\"Train target\"):\n",
    "    # MNIST images are originally of shape 28x28 with grayscale values\n",
    "    samples_to_plot = np.array(data)[:n_samples].reshape((n_samples, 28, 28))\n",
    "\n",
    "    fig = plt.figure(figsize=(30, 30))\n",
    "\n",
    "    for i in range(n_samples):\n",
    "        subplot = fig.add_subplot(1, n_samples, i + 1)\n",
    "        subplot.set_title(f\"{title}: {np.array(targets)[i]}\", fontsize=15)\n",
    "        subplot.imshow(samples_to_plot[i], cmap=\"gray\", interpolation=\"nearest\")"
   ]
  },
  {
   "cell_type": "code",
   "execution_count": null,
   "metadata": {},
   "outputs": [],
   "source": [
    "plot_samples(x_train, y_train)"
   ]
  },
  {
   "cell_type": "code",
   "execution_count": null,
   "metadata": {},
   "outputs": [],
   "source": [
    "\n",
    "\n",
    "params = {\n",
    "    \"module__n_layers\": 2,\n",
    "    \"module__n_w_bits\": 4,\n",
    "    \"module__n_a_bits\": 4,\n",
    "    \"module__n_hidden_neurons_multiplier\": 0.5,\n",
    "    \"module__activation_function\": nn.ReLU,\n",
    "    \"max_epochs\": 7,\n",
    "}\n",
    "\n",
    "model = NeuralNetClassifier(**params)\n",
    "     \n"
   ]
  },
  {
   "cell_type": "code",
   "execution_count": null,
   "metadata": {},
   "outputs": [],
   "source": [
    "model.fit(X=x_train, y=y_train)"
   ]
  },
  {
   "cell_type": "code",
   "execution_count": null,
   "metadata": {},
   "outputs": [],
   "source": [
    "\n",
    "y_preds_clear = model.predict(x_test, fhe=\"disable\")\n",
    "\n",
    "print(f\"The test accuracy of the clear model is {accuracy_score(y_test, y_preds_clear):.2f}\")"
   ]
  },
  {
   "cell_type": "code",
   "execution_count": null,
   "metadata": {},
   "outputs": [],
   "source": [
    "\n",
    "# Reduce the input-set's length to make the compilation time faster\n",
    "# The input-set should be large enough to be representative of the input data\n",
    "inputset = x_train.head(1000)\n",
    "simulated_fhe_circuit = model.compile(inputset)\n",
    "\n",
    "# Print the circuit's maximum bit-width reached during compilation\n",
    "print(f\"Circuit of {simulated_fhe_circuit.graph.maximum_integer_bit_width()}-bits (FHE simulation)\")"
   ]
  },
  {
   "cell_type": "code",
   "execution_count": null,
   "metadata": {},
   "outputs": [],
   "source": [
    "\n",
    "\n",
    "# Evaluate the model using simulation\n",
    "y_preds_simulated = model.predict(x_test, fhe=\"simulate\")\n",
    "\n",
    "print(\n",
    "    \"The test accuracy (with FHE simulation) of the FHE model is \"\n",
    "    f\"{accuracy_score(y_test, y_preds_simulated):.2f}\"\n",
    ")\n"
   ]
  },
  {
   "cell_type": "code",
   "execution_count": null,
   "metadata": {},
   "outputs": [],
   "source": [
    "# Print the circuit's maximum bit-width reached during compilation\n",
    "print(f\"FHE circuit of {model.fhe_circuit.graph.maximum_integer_bit_width()}-bits\")\n",
    "\n",
    "time_begin = time.time()\n",
    "model.fhe_circuit.client.keygen(force=True)\n",
    "print(f\"Key generation time: {time.time() - time_begin:.2f} seconds\")"
   ]
  },
  {
   "cell_type": "code",
   "execution_count": null,
   "metadata": {},
   "outputs": [],
   "source": [
    "\n",
    "\n",
    "# Reduce the test set\n",
    "n_samples = 3\n",
    "x_test_sample = x_test.head(n_samples)\n",
    "y_test_sample = y_test.head(n_samples)\n",
    "\n",
    "# Execute the predictions using FHE simulation on a few samples\n",
    "simulated_fhe_predictions = model.predict(x_test_sample, fhe=\"simulate\")\n",
    "\n",
    "time_begin = time.time()\n",
    "fhe_predictions = model.predict(x_test_sample, fhe=\"execute\")\n",
    "seconds_per_sample = (time.time() - time_begin) / len(x_test_sample)\n",
    "print(f\"Execution time in FHE: {seconds_per_sample:.2f} seconds per sample\\n\")\n",
    "\n",
    "print(\"Expected values:\", y_test_sample.tolist())\n",
    "print(\"Simulated prediction values:\", simulated_fhe_predictions)\n",
    "print(\"FHE prediction values:\", fhe_predictions)\n",
    "     \n"
   ]
  }
 ],
 "metadata": {
  "language_info": {
   "name": "python"
  }
 },
 "nbformat": 4,
 "nbformat_minor": 2
}
