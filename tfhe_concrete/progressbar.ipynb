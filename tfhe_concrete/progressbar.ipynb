{
 "cells": [
  {
   "cell_type": "code",
   "execution_count": 1,
   "metadata": {},
   "outputs": [
    {
     "ename": "ModuleNotFoundError",
     "evalue": "No module named 'randimage'",
     "output_type": "error",
     "traceback": [
      "\u001b[0;31m---------------------------------------------------------------------------\u001b[0m",
      "\u001b[0;31mModuleNotFoundError\u001b[0m                       Traceback (most recent call last)",
      "Cell \u001b[0;32mIn[1], line 5\u001b[0m\n\u001b[1;32m      3\u001b[0m \u001b[38;5;28;01mimport\u001b[39;00m \u001b[38;5;21;01mmatplotlib\u001b[39;00m\u001b[38;5;21;01m.\u001b[39;00m\u001b[38;5;21;01mpyplot\u001b[39;00m \u001b[38;5;28;01mas\u001b[39;00m \u001b[38;5;21;01mplt\u001b[39;00m\n\u001b[1;32m      4\u001b[0m \u001b[38;5;28;01mimport\u001b[39;00m \u001b[38;5;21;01mnumpy\u001b[39;00m \u001b[38;5;28;01mas\u001b[39;00m \u001b[38;5;21;01mnp\u001b[39;00m\n\u001b[0;32m----> 5\u001b[0m \u001b[38;5;28;01mimport\u001b[39;00m \u001b[38;5;21;01mrandimage\u001b[39;00m\n\u001b[1;32m      6\u001b[0m \u001b[38;5;28;01mfrom\u001b[39;00m \u001b[38;5;21;01mconcrete\u001b[39;00m \u001b[38;5;28;01mimport\u001b[39;00m fhe\n\u001b[1;32m      8\u001b[0m configuration \u001b[38;5;241m=\u001b[39m fhe\u001b[38;5;241m.\u001b[39mConfiguration(\n\u001b[1;32m      9\u001b[0m     enable_unsafe_features\u001b[38;5;241m=\u001b[39m\u001b[38;5;28;01mTrue\u001b[39;00m,\n\u001b[1;32m     10\u001b[0m     use_insecure_key_cache\u001b[38;5;241m=\u001b[39m\u001b[38;5;28;01mTrue\u001b[39;00m,\n\u001b[0;32m   (...)\u001b[0m\n\u001b[1;32m     18\u001b[0m     progress_title\u001b[38;5;241m=\u001b[39m\u001b[38;5;124m\"\u001b[39m\u001b[38;5;124mEvaluation:\u001b[39m\u001b[38;5;124m\"\u001b[39m,\n\u001b[1;32m     19\u001b[0m )\n",
      "\u001b[0;31mModuleNotFoundError\u001b[0m: No module named 'randimage'"
     ]
    }
   ],
   "source": [
    "import time\n",
    "\n",
    "import matplotlib.pyplot as plt\n",
    "import numpy as np\n",
    "import randimage\n",
    "from concrete import fhe\n",
    "\n"
   ]
  },
  {
   "cell_type": "code",
   "execution_count": null,
   "metadata": {},
   "outputs": [],
   "source": [
    "\n",
    "configuration = fhe.Configuration(\n",
    "    enable_unsafe_features=True,\n",
    "    use_insecure_key_cache=True,\n",
    "    insecure_key_cache_location=\".keys\",\n",
    "\n",
    "    # To enable displaying progressbar\n",
    "    show_progress=True,\n",
    "    # To enable showing tags in the progressbar (does not work in notebooks)\n",
    "    progress_tag=True,\n",
    "    # To give a title to the progressbar\n",
    "    progress_title=\"Evaluation:\",\n",
    ")"
   ]
  },
  {
   "cell_type": "code",
   "execution_count": null,
   "metadata": {},
   "outputs": [],
   "source": [
    "@fhe.compiler({\"image\": \"encrypted\"})\n",
    "def to_grayscale(image):\n",
    "    with fhe.tag(\"scaling.r\"):\n",
    "        r = image[:, :, 0]\n",
    "        r = (r * 0.30).astype(np.int64)\n",
    "\n",
    "    with fhe.tag(\"scaling.g\"):\n",
    "        g = image[:, :, 1]\n",
    "        g = (g * 0.59).astype(np.int64)\n",
    "\n",
    "    with fhe.tag(\"scaling.b\"):\n",
    "        b = image[:, :, 2]\n",
    "        b = (b * 0.11).astype(np.int64)\n",
    "\n",
    "    with fhe.tag(\"combining.rgb\"):\n",
    "        gray = r + g + b\n",
    "        \n",
    "    with fhe.tag(\"creating.result\"):\n",
    "        gray = np.expand_dims(gray, axis=2)\n",
    "        result = np.concatenate((gray, gray, gray), axis=2)\n",
    "    \n",
    "    return result\n"
   ]
  },
  {
   "cell_type": "code",
   "execution_count": null,
   "metadata": {},
   "outputs": [],
   "source": [
    "image_size = (16, 16)\n",
    "image_data = (randimage.get_random_image(image_size) * 255).round().astype(np.int64)\n",
    "\n",
    "print()"
   ]
  },
  {
   "cell_type": "code",
   "execution_count": null,
   "metadata": {},
   "outputs": [],
   "source": [
    "print(f\"Compilation started @ {time.strftime('%H:%M:%S', time.localtime())}\")\n",
    "start = time.time()\n",
    "inputset = [np.random.randint(0, 256, size=image_data.shape) for _ in range(100)]\n",
    "circuit = to_grayscale.compile(inputset, configuration)\n",
    "end = time.time()\n",
    "print(f\"(took {end - start:.3f} seconds)\")\n",
    "\n",
    "print()"
   ]
  },
  {
   "cell_type": "code",
   "execution_count": null,
   "metadata": {},
   "outputs": [],
   "source": [
    "print(f\"Key generation started @ {time.strftime('%H:%M:%S', time.localtime())}\")\n",
    "start = time.time()\n",
    "circuit.keygen()\n",
    "end = time.time()\n",
    "print(f\"(took {end - start:.3f} seconds)\")\n",
    "\n",
    "print()"
   ]
  },
  {
   "cell_type": "code",
   "execution_count": null,
   "metadata": {},
   "outputs": [],
   "source": [
    "print(f\"Evaluation started @ {time.strftime('%H:%M:%S', time.localtime())}\")\n",
    "start = time.time()\n",
    "grayscale_image_data = circuit.encrypt_run_decrypt(image_data)\n",
    "end = time.time()\n",
    "print(f\"(took {end - start:.3f} seconds)\")\n"
   ]
  },
  {
   "cell_type": "code",
   "execution_count": null,
   "metadata": {},
   "outputs": [],
   "source": [
    "\n",
    "fig, axs = plt.subplots(1, 2)\n",
    "axs = axs.flatten()\n",
    "\n",
    "axs[0].set_title(\"Original\")\n",
    "axs[0].imshow(image_data)\n",
    "axs[0].axis(\"off\")\n",
    "\n",
    "axs[1].set_title(\"Grayscale\")\n",
    "axs[1].imshow(grayscale_image_data)\n",
    "axs[1].axis(\"off\")\n",
    "\n",
    "plt.show()"
   ]
  }
 ],
 "metadata": {
  "kernelspec": {
   "display_name": "Python 3",
   "language": "python",
   "name": "python3"
  },
  "language_info": {
   "codemirror_mode": {
    "name": "ipython",
    "version": 3
   },
   "file_extension": ".py",
   "mimetype": "text/x-python",
   "name": "python",
   "nbconvert_exporter": "python",
   "pygments_lexer": "ipython3",
   "version": "3.10.12"
  }
 },
 "nbformat": 4,
 "nbformat_minor": 2
}
