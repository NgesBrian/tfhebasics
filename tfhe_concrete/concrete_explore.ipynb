{
 "cells": [
  {
   "cell_type": "markdown",
   "metadata": {},
   "source": []
  },
  {
   "cell_type": "code",
   "execution_count": 3,
   "metadata": {},
   "outputs": [
    {
     "name": "stdout",
     "output_type": "stream",
     "text": [
      "range(0, 16)\n",
      "FHE result 16\n"
     ]
    }
   ],
   "source": [
    "from concrete import fhe\n",
    "\n",
    "table = fhe.LookupTable([x ** 2 for x in range(2 ** 4)])\n",
    "\n",
    "@fhe.compiler({\"x\": \"encrypted\"})\n",
    "def f(x):\n",
    "    return table[x]\n",
    "\n",
    "inputset = range(2 ** 4)\n",
    "print(inputset)\n",
    "circuit = f.compile(inputset)\n",
    "\n",
    "x = 4\n",
    "\n",
    "enc_x = circuit.encrypt(x)\n",
    "enc_result = circuit.run(enc_x)\n",
    "fhe_result = circuit.decrypt(enc_result)\n",
    "\n",
    "print(f'FHE result {fhe_result}')"
   ]
  },
  {
   "cell_type": "code",
   "execution_count": 10,
   "metadata": {},
   "outputs": [
    {
     "name": "stdout",
     "output_type": "stream",
     "text": [
      "[array([[[[1, 2, 2, 1],\n",
      "         [1, 1, 0, 1],\n",
      "         [0, 2, 1, 2],\n",
      "         [0, 3, 2, 2]]]]), array([[[[0, 1, 0, 3],\n",
      "         [1, 3, 2, 0],\n",
      "         [1, 2, 1, 3],\n",
      "         [0, 3, 2, 0]]]]), array([[[[2, 0, 2, 2],\n",
      "         [2, 0, 3, 3],\n",
      "         [0, 3, 3, 3],\n",
      "         [2, 3, 2, 3]]]]), array([[[[2, 0, 1, 3],\n",
      "         [3, 1, 2, 1],\n",
      "         [1, 0, 3, 0],\n",
      "         [1, 3, 3, 1]]]]), array([[[[0, 3, 2, 1],\n",
      "         [3, 1, 2, 1],\n",
      "         [3, 2, 0, 1],\n",
      "         [1, 2, 1, 2]]]]), array([[[[2, 3, 0, 1],\n",
      "         [1, 1, 2, 1],\n",
      "         [1, 2, 3, 2],\n",
      "         [3, 0, 1, 0]]]]), array([[[[0, 2, 1, 1],\n",
      "         [1, 3, 3, 3],\n",
      "         [2, 1, 1, 0],\n",
      "         [1, 3, 0, 3]]]]), array([[[[3, 1, 3, 1],\n",
      "         [0, 0, 2, 0],\n",
      "         [2, 1, 3, 0],\n",
      "         [1, 1, 2, 0]]]]), array([[[[0, 2, 2, 0],\n",
      "         [3, 2, 0, 3],\n",
      "         [3, 2, 1, 0],\n",
      "         [2, 1, 3, 0]]]]), array([[[[0, 3, 2, 1],\n",
      "         [1, 1, 2, 1],\n",
      "         [3, 0, 0, 2],\n",
      "         [3, 1, 1, 2]]]])]\n",
      "Results [[[[21  5]\n",
      "   [21  5]]]]\n",
      "Dec Results [[[[21  5]\n",
      "   [21  5]]]]\n"
     ]
    }
   ],
   "source": [
    "import numpy as np\n",
    "from concrete import fhe\n",
    "\n",
    "weight = np.array([[2, 1], [3, 2]]).reshape(1, 1, 2, 2)\n",
    "# print(weight)\n",
    "\n",
    "@fhe.compiler({\"x\": \"encrypted\"})\n",
    "def f(x):\n",
    "    return fhe.conv(x, weight, strides=(2, 2), dilations=(1, 1), group=1)\n",
    "\n",
    "inputset = [np.random.randint(0, 4, size=(1, 1, 4, 4)) for _ in range(10)]\n",
    "circuit = f.compile(inputset)\n",
    "print(inputset)\n",
    "sample = np.array(\n",
    "    [\n",
    "        [3, 2, 1, 0],\n",
    "        [3, 2, 1, 0],\n",
    "        [3, 2, 1, 0],\n",
    "        [3, 2, 1, 0],\n",
    "    ]\n",
    ").reshape(1, 1, 4, 4)\n",
    "\n",
    "# print(sample)\n",
    "enc_sampe = circuit.encrypt(sample)\n",
    "enc_result = circuit.run(enc_sampe)\n",
    "dec_result = circuit.decrypt(enc_result)\n",
    "\n",
    "result = f(sample)\n",
    "print(f'Results {result}')\n",
    "print(f'Dec Results {dec_result}')\n",
    "# circuit.encrypt_run_decrypt(sample)\n",
    "# assert np.array_equal(circuit.encrypt_run_decrypt(sample), f(sample))"
   ]
  },
  {
   "cell_type": "code",
   "execution_count": 11,
   "metadata": {},
   "outputs": [
    {
     "name": "stdout",
     "output_type": "stream",
     "text": [
      "Results [[[[3 1]\n",
      "   [3 1]]]]\n",
      "Dec Results [[[[3 2]\n",
      "   [3 2]]]]\n"
     ]
    }
   ],
   "source": [
    "import numpy as np\n",
    "from concrete import fhe\n",
    "\n",
    "@fhe.compiler({\"x\": \"encrypted\"})\n",
    "def f(x):\n",
    "    return fhe.maxpool(x, kernel_shape=(2, 2), strides=(2, 2), dilations=(1, 1))\n",
    "\n",
    "inputset = [np.random.randint(0, 4, size=(1, 1, 4, 4)) for _ in range(10)]\n",
    "circuit = f.compile(inputset)\n",
    "\n",
    "sample = np.array(\n",
    "    [\n",
    "        [3, 2, 1, 0],\n",
    "        [3, 2, 1, 0],\n",
    "        [3, 2, 1, 0],\n",
    "        [3, 2, 1, 0],\n",
    "    ]\n",
    ").reshape(1, 1, 4, 4)\n",
    "\n",
    "result = f(sample)\n",
    "print(f'Results {result}')\n",
    "\n",
    "\n",
    "enc_sampe = circuit.encrypt(sample)\n",
    "enc_result = circuit.run(enc_sampe)\n",
    "dec_result = circuit.decrypt(enc_result)\n",
    "print(f'Dec Results {dec_result}')\n",
    "\n",
    "#assert np.array_equal(circuit.encrypt_run_decrypt(sample), f(sample))"
   ]
  },
  {
   "cell_type": "code",
   "execution_count": 16,
   "metadata": {},
   "outputs": [],
   "source": [
    "import numpy as np\n",
    "from concrete import fhe\n",
    "\n",
    "@fhe.compiler({\"x\": \"encrypted\", \"y\": \"encrypted\"})\n",
    "def f(x, y):\n",
    "    return fhe.array([x, y])\n",
    "\n",
    "inputset = [(3, 2), (7, 0), (0, 7), (4, 2)]\n",
    "circuit = f.compile(inputset)\n",
    "\n",
    "sample = (3, 4)\n",
    "assert np.array_equal(circuit.encrypt_run_decrypt(*sample), f(*sample))"
   ]
  },
  {
   "cell_type": "code",
   "execution_count": 18,
   "metadata": {},
   "outputs": [
    {
     "name": "stdout",
     "output_type": "stream",
     "text": [
      "Dec Results 0\n",
      "Dec Results 1\n",
      "Dec Results 2\n",
      "Dec Results 3\n",
      "Dec Results 4\n",
      "Dec Results 5\n",
      "Dec Results 6\n",
      "Dec Results 7\n",
      "Dec Results 8\n",
      "Dec Results 9\n"
     ]
    }
   ],
   "source": [
    "from concrete import fhe\n",
    "import numpy as np\n",
    "\n",
    "@fhe.compiler({\"x\": \"encrypted\"})\n",
    "def f(x):\n",
    "    z = fhe.zero()\n",
    "    return x + z\n",
    "\n",
    "inputset = range(10)\n",
    "circuit = f.compile(inputset)\n",
    "\n",
    "for x in range(10):\n",
    "    enc_sampe = circuit.encrypt(x)\n",
    "    enc_result = circuit.run(enc_sampe)\n",
    "    dec_result = circuit.decrypt(enc_result)\n",
    "    print(f'Dec Results {dec_result}')\n",
    "    #assert circuit.encrypt_run_decrypt(x) == x"
   ]
  },
  {
   "cell_type": "code",
   "execution_count": 19,
   "metadata": {},
   "outputs": [
    {
     "name": "stdout",
     "output_type": "stream",
     "text": [
      "Dec Results 1\n",
      "Dec Results 2\n",
      "Dec Results 3\n",
      "Dec Results 4\n",
      "Dec Results 5\n",
      "Dec Results 6\n",
      "Dec Results 7\n",
      "Dec Results 8\n",
      "Dec Results 9\n",
      "Dec Results 10\n"
     ]
    }
   ],
   "source": [
    "from concrete import fhe\n",
    "import numpy as np\n",
    "\n",
    "@fhe.compiler({\"x\": \"encrypted\"})\n",
    "def f(x):\n",
    "    z = fhe.one()\n",
    "    return x + z\n",
    "\n",
    "inputset = range(10)\n",
    "circuit = f.compile(inputset)\n",
    "\n",
    "for x in range(10):\n",
    "    enc_sampe = circuit.encrypt(x)\n",
    "    enc_result = circuit.run(enc_sampe)\n",
    "    dec_result = circuit.decrypt(enc_result)\n",
    "    print(f'Dec Results {dec_result}')"
   ]
  },
  {
   "cell_type": "code",
   "execution_count": 20,
   "metadata": {},
   "outputs": [
    {
     "name": "stdout",
     "output_type": "stream",
     "text": [
      "Dec Results [[1 1 1]\n",
      " [1 1 1]]\n",
      "Dec Results [[2 2 2]\n",
      " [2 2 2]]\n",
      "Dec Results [[3 3 3]\n",
      " [3 3 3]]\n",
      "Dec Results [[4 4 4]\n",
      " [4 4 4]]\n",
      "Dec Results [[5 5 5]\n",
      " [5 5 5]]\n",
      "Dec Results [[6 6 6]\n",
      " [6 6 6]]\n",
      "Dec Results [[7 7 7]\n",
      " [7 7 7]]\n",
      "Dec Results [[8 8 8]\n",
      " [8 8 8]]\n",
      "Dec Results [[9 9 9]\n",
      " [9 9 9]]\n",
      "Dec Results [[10 10 10]\n",
      " [10 10 10]]\n"
     ]
    }
   ],
   "source": [
    "from concrete import fhe\n",
    "import numpy as np\n",
    "\n",
    "@fhe.compiler({\"x\": \"encrypted\"})\n",
    "def f(x):\n",
    "    z = fhe.ones((2, 3))\n",
    "    return x + z\n",
    "\n",
    "inputset = range(10)\n",
    "circuit = f.compile(inputset)\n",
    "\n",
    "for x in range(10):\n",
    "    enc_sampe = circuit.encrypt(x)\n",
    "    enc_result = circuit.run(enc_sampe)\n",
    "    dec_result = circuit.decrypt(enc_result)\n",
    "    print(f'Dec Results {dec_result}')\n",
    "    #assert np.array_equal(circuit.encrypt_run_decrypt(x), np.array([[x, x, x], [x, x, x]]) + 1)"
   ]
  },
  {
   "cell_type": "code",
   "execution_count": 26,
   "metadata": {},
   "outputs": [
    {
     "name": "stdout",
     "output_type": "stream",
     "text": [
      "[(119, 82, 19), (84, 39, 86), (140, 186, 4)]\n",
      "%0 = x                          # EncryptedScalar<uint8>        ∈ [84, 140]\n",
      "%1 = y                          # EncryptedScalar<uint8>        ∈ [39, 186]\n",
      "%2 = z                          # EncryptedScalar<uint7>        ∈ [4, 86]\n",
      "%3 = bitwise_or(%0, %1)         # EncryptedScalar<uint8>        ∈ [119, 190]\n",
      "%4 = bitwise_and(%1, %2)        # EncryptedScalar<uint5>        ∈ [0, 18]\n",
      "%5 = bitwise_xor(%3, %4)        # EncryptedScalar<uint8>        ∈ [101, 190]\n",
      "return %5\n"
     ]
    }
   ],
   "source": [
    "from concrete import fhe\n",
    "import numpy as np\n",
    "\n",
    "@fhe.compiler({\"x\": \"encrypted\", \"y\":\"encrypted\", \"z\":\"encrypted\"})\n",
    "def f(x, y, z):\n",
    "    a = x | y\n",
    "    b = y & z\n",
    "    c = a ^ b\n",
    "    return c\n",
    "\n",
    "inputset = [\n",
    "    (np.random.randint(0, 2**8), np.random.randint(0, 2**8), np.random.randint(0, 2**8))\n",
    "    for _ in range(3)\n",
    "]\n",
    "print(inputset)\n",
    "circuit = f.compile(inputset)\n",
    "\n",
    "print(circuit)"
   ]
  },
  {
   "cell_type": "code",
   "execution_count": 27,
   "metadata": {},
   "outputs": [],
   "source": [
    "@fhe.compiler({\"x\": \"encrypted\", \"y\": \"encrypted\", \"z\": \"encrypted\"})\n",
    "def f(x, y, z):\n",
    "    # hint that inputs should be considered at least 8-bits\n",
    "    x = fhe.hint(x, bit_width=8)\n",
    "    y = fhe.hint(y, bit_width=8)\n",
    "    z = fhe.hint(z, bit_width=8)\n",
    "\n",
    "    # hint that intermediates should be considered at least 8-bits\n",
    "    a = fhe.hint(x | y, bit_width=8)\n",
    "    b = fhe.hint(y & z, bit_width=8)\n",
    "    c = fhe.hint(a ^ b, bit_width=8)\n",
    "\n",
    "    return c"
   ]
  },
  {
   "cell_type": "markdown",
   "metadata": {},
   "source": [
    "Compparison"
   ]
  },
  {
   "cell_type": "code",
   "execution_count": 32,
   "metadata": {},
   "outputs": [
    {
     "name": "stdout",
     "output_type": "stream",
     "text": [
      "\n",
      "MLIR\n",
      "--------------------------------------------------------------------------------\n",
      "module {\n",
      "  func.func @main(%arg0: !FHE.eint<4>, %arg1: !FHE.eint<4>) -> !FHE.eint<1> {\n",
      "    %cst = arith.constant dense<[0, 0, 0, 0, 4, 4, 4, 4, 8, 8, 8, 8, 12, 12, 12, 12]> : tensor<16xi64>\n",
      "    %0 = \"FHE.apply_lookup_table\"(%arg0, %cst) : (!FHE.eint<4>, tensor<16xi64>) -> !FHE.eint<4>\n",
      "    %cst_0 = arith.constant dense<[0, 0, 0, 0, 1, 1, 1, 1, 2, 2, 2, 2, 3, 3, 3, 3]> : tensor<16xi64>\n",
      "    %1 = \"FHE.apply_lookup_table\"(%arg1, %cst_0) : (!FHE.eint<4>, tensor<16xi64>) -> !FHE.eint<4>\n",
      "    %2 = \"FHE.add_eint\"(%0, %1) : (!FHE.eint<4>, !FHE.eint<4>) -> !FHE.eint<4>\n",
      "    %cst_1 = arith.constant dense<[0, 1, 1, 1, 2, 0, 1, 1, 2, 2, 0, 1, 2, 2, 2, 0]> : tensor<16xi64>\n",
      "    %3 = \"FHE.apply_lookup_table\"(%2, %cst_1) : (!FHE.eint<4>, tensor<16xi64>) -> !FHE.eint<4>\n",
      "    %cst_2 = arith.constant dense<[0, 4, 8, 12, 0, 4, 8, 12, 0, 4, 8, 12, 0, 4, 8, 12]> : tensor<16xi64>\n",
      "    %4 = \"FHE.apply_lookup_table\"(%arg0, %cst_2) : (!FHE.eint<4>, tensor<16xi64>) -> !FHE.eint<4>\n",
      "    %cst_3 = arith.constant dense<[0, 1, 2, 3, 0, 1, 2, 3, 0, 1, 2, 3, 0, 1, 2, 3]> : tensor<16xi64>\n",
      "    %5 = \"FHE.apply_lookup_table\"(%arg1, %cst_3) : (!FHE.eint<4>, tensor<16xi64>) -> !FHE.eint<4>\n",
      "    %6 = \"FHE.add_eint\"(%4, %5) : (!FHE.eint<4>, !FHE.eint<4>) -> !FHE.eint<4>\n",
      "    %cst_4 = arith.constant dense<[0, 4, 4, 4, 8, 0, 4, 4, 8, 8, 0, 4, 8, 8, 8, 0]> : tensor<16xi64>\n",
      "    %7 = \"FHE.apply_lookup_table\"(%6, %cst_4) : (!FHE.eint<4>, tensor<16xi64>) -> !FHE.eint<4>\n",
      "    %8 = \"FHE.add_eint\"(%7, %3) : (!FHE.eint<4>, !FHE.eint<4>) -> !FHE.eint<4>\n",
      "    %cst_5 = arith.constant dense<[0, 1, 0, 0, 1, 1, 0, 0, 0, 1, 0, 0, 0, 1, 0, 0]> : tensor<16xi64>\n",
      "    %9 = \"FHE.apply_lookup_table\"(%8, %cst_5) : (!FHE.eint<4>, tensor<16xi64>) -> !FHE.eint<1>\n",
      "    return %9 : !FHE.eint<1>\n",
      "  }\n",
      "}\n",
      "--------------------------------------------------------------------------------\n",
      "\n",
      "Dec Results 0\n"
     ]
    }
   ],
   "source": [
    "import numpy as np\n",
    "from concrete import fhe\n",
    "\n",
    "def f(x, y):\n",
    "    return x < y\n",
    "\n",
    "inputset = [\n",
    "    (np.random.randint(0, 2**4), np.random.randint(0, 2**4))\n",
    "    for _ in range(100)\n",
    "]\n",
    "\n",
    "compiler = fhe.Compiler(f, {\"x\": \"encrypted\", \"y\": \"encrypted\"})\n",
    "circuit = compiler.compile(inputset, show_mlir=True)\n",
    "\n",
    "x = 3\n",
    "y = 1\n",
    "enc_sampe = circuit.encrypt(x, y)\n",
    "enc_result = circuit.run(enc_sampe)\n",
    "dec_result = circuit.decrypt(enc_result)\n",
    "print(f'Dec Results {dec_result}')"
   ]
  },
  {
   "cell_type": "markdown",
   "metadata": {},
   "source": [
    "Comparison strategies can be changed"
   ]
  },
  {
   "cell_type": "code",
   "execution_count": 33,
   "metadata": {},
   "outputs": [
    {
     "name": "stdout",
     "output_type": "stream",
     "text": [
      "\n",
      "MLIR\n",
      "--------------------------------------------------------------------------------\n",
      "module {\n",
      "  func.func @main(%arg0: !FHE.eint<5>, %arg1: !FHE.eint<5>) -> !FHE.eint<1> {\n",
      "    %0 = \"FHE.to_signed\"(%arg0) : (!FHE.eint<5>) -> !FHE.esint<5>\n",
      "    %1 = \"FHE.to_signed\"(%arg1) : (!FHE.eint<5>) -> !FHE.esint<5>\n",
      "    %2 = \"FHE.sub_eint\"(%0, %1) : (!FHE.esint<5>, !FHE.esint<5>) -> !FHE.esint<5>\n",
      "    %cst = arith.constant dense<[0, 0, 0, 0, 0, 0, 0, 0, 0, 0, 0, 0, 0, 0, 0, 0, 1, 1, 1, 1, 1, 1, 1, 1, 1, 1, 1, 1, 1, 1, 1, 1]> : tensor<32xi64>\n",
      "    %3 = \"FHE.apply_lookup_table\"(%2, %cst) : (!FHE.esint<5>, tensor<32xi64>) -> !FHE.eint<1>\n",
      "    return %3 : !FHE.eint<1>\n",
      "  }\n",
      "}\n",
      "--------------------------------------------------------------------------------\n",
      "\n"
     ]
    }
   ],
   "source": [
    "import numpy as np\n",
    "from concrete import fhe\n",
    "\n",
    "configuration = fhe.Configuration(\n",
    "    comparison_strategy_preference=fhe.ComparisonStrategy.ONE_TLU_PROMOTED,\n",
    ")\n",
    "\n",
    "def f(x, y):\n",
    "    return x < y\n",
    "\n",
    "inputset = [\n",
    "    (np.random.randint(0, 2**4), np.random.randint(0, 2**4))\n",
    "    for _ in range(100)\n",
    "]\n",
    "\n",
    "compiler = fhe.Compiler(f, {\"x\": \"encrypted\", \"y\": \"encrypted\"})\n",
    "circuit = compiler.compile(inputset, configuration, show_mlir=True)"
   ]
  },
  {
   "cell_type": "code",
   "execution_count": 38,
   "metadata": {},
   "outputs": [
    {
     "name": "stdout",
     "output_type": "stream",
     "text": [
      "[array([[1, 3, 3],\n",
      "       [3, 1, 3]]), array([[2, 0, 2],\n",
      "       [0, 1, 3]]), array([[3, 3, 0],\n",
      "       [3, 3, 3]]), array([[3, 2, 1],\n",
      "       [0, 3, 3]]), array([[2, 3, 0],\n",
      "       [0, 1, 1]]), array([[0, 0, 2],\n",
      "       [1, 0, 0]]), array([[3, 2, 0],\n",
      "       [3, 2, 2]]), array([[2, 3, 0],\n",
      "       [0, 2, 2]]), array([[0, 0, 2],\n",
      "       [0, 2, 1]]), array([[1, 3, 1],\n",
      "       [0, 0, 1]])]\n",
      "results [[ 4 -2  0]\n",
      " [ 6  0 -2]]\n"
     ]
    }
   ],
   "source": [
    "from concrete import fhe\n",
    "import numpy as np\n",
    "\n",
    "table = fhe.LookupTable([2, -1, 3, 0])\n",
    "\n",
    "@fhe.compiler({\"x\": \"encrypted\"})\n",
    "def f(x):\n",
    "    sum = table[x] + table[x]\n",
    "    return sum\n",
    "\n",
    "inputset = [np.random.randint(0, 4, size=(2, 3)) for _ in range(10)]\n",
    "print(inputset)\n",
    "circuit = f.compile(inputset)\n",
    "\n",
    "sample = [\n",
    "    [0, 1, 3],\n",
    "    [2, 3, 1],\n",
    "]\n",
    "expected_output = [\n",
    "    [2, -1, 0],\n",
    "    [3, 0, -1],\n",
    "]\n",
    "sample = np.array(sample)\n",
    "enc_value = circuit.encrypt(sample)\n",
    "enc_result = circuit.run(enc_value)\n",
    "results_value = circuit.decrypt(enc_result)\n",
    "print(f'results {results_value}')\n",
    "\n",
    "\n",
    "# for i in range(2):\n",
    "#     for j in range(3):\n",
    "#         assert actual_output[i][j] == expected_output[i][j] == table[sample[i][j]]"
   ]
  }
 ],
 "metadata": {
  "kernelspec": {
   "display_name": "Python 3",
   "language": "python",
   "name": "python3"
  },
  "language_info": {
   "codemirror_mode": {
    "name": "ipython",
    "version": 3
   },
   "file_extension": ".py",
   "mimetype": "text/x-python",
   "name": "python",
   "nbconvert_exporter": "python",
   "pygments_lexer": "ipython3",
   "version": "3.10.12"
  }
 },
 "nbformat": 4,
 "nbformat_minor": 2
}
