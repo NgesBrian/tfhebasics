{
 "cells": [
  {
   "cell_type": "code",
   "execution_count": 42,
   "metadata": {},
   "outputs": [],
   "source": [
    "from concrete import fhe\n",
    "import numpy as np\n",
    "from sklearn.model_selection import train_test_split"
   ]
  },
  {
   "cell_type": "code",
   "execution_count": 43,
   "metadata": {},
   "outputs": [],
   "source": [
    "lookup_table = tuple(range(256))"
   ]
  },
  {
   "cell_type": "code",
   "execution_count": 44,
   "metadata": {},
   "outputs": [],
   "source": [
    "table = fhe.LookupTable(lookup_table)"
   ]
  },
  {
   "cell_type": "code",
   "execution_count": 45,
   "metadata": {},
   "outputs": [],
   "source": [
    "@fhe.compiler({\"x\":\"encrypted\"})\n",
    "def ref_function(x):\n",
    "    return table[x]"
   ]
  },
  {
   "cell_type": "code",
   "execution_count": 46,
   "metadata": {},
   "outputs": [
    {
     "name": "stdout",
     "output_type": "stream",
     "text": [
      "range(0, 255)\n"
     ]
    }
   ],
   "source": [
    "inputset = range(0,255)\n",
    "print(inputset)\n",
    "circuit = ref_function.compile(inputset)"
   ]
  },
  {
   "cell_type": "code",
   "execution_count": 47,
   "metadata": {},
   "outputs": [
    {
     "name": "stdout",
     "output_type": "stream",
     "text": [
      "<concrete.fhe.compilation.value.Value object at 0x7fef98259600>\n",
      "<concrete.fhe.compilation.value.Value object at 0x7fef98259570>\n"
     ]
    }
   ],
   "source": [
    "value = 10\n",
    "enc_value = circuit.encrypt(value)\n",
    "enc_value_a = circuit.run(enc_value)\n",
    "\n",
    "value = 10\n",
    "enc_value = circuit.encrypt(value)\n",
    "enc_value_b = circuit.run(enc_value)\n",
    "\n",
    "print(enc_value_a)\n",
    "\n",
    "print(enc_value_b)"
   ]
  },
  {
   "cell_type": "code",
   "execution_count": 49,
   "metadata": {},
   "outputs": [
    {
     "ename": "TypeError",
     "evalue": "unsupported operand type(s) for +: 'Value' and 'Value'",
     "output_type": "error",
     "traceback": [
      "\u001b[0;31m---------------------------------------------------------------------------\u001b[0m",
      "\u001b[0;31mTypeError\u001b[0m                                 Traceback (most recent call last)",
      "Cell \u001b[0;32mIn[49], line 1\u001b[0m\n\u001b[0;32m----> 1\u001b[0m \u001b[38;5;28msum\u001b[39m \u001b[38;5;241m=\u001b[39m \u001b[43mnp\u001b[49m\u001b[38;5;241;43m.\u001b[39;49m\u001b[43madd\u001b[49m\u001b[43m(\u001b[49m\u001b[43menc_value_a\u001b[49m\u001b[43m,\u001b[49m\u001b[43m \u001b[49m\u001b[43menc_value_b\u001b[49m\u001b[43m)\u001b[49m\n\u001b[1;32m      3\u001b[0m result \u001b[38;5;241m=\u001b[39m np\u001b[38;5;241m.\u001b[39mmultiply(enc_value_a, enc_value_b)\n\u001b[1;32m      5\u001b[0m dec_value \u001b[38;5;241m=\u001b[39m circuit\u001b[38;5;241m.\u001b[39mdecrypt(\u001b[38;5;28msum\u001b[39m)\n",
      "\u001b[0;31mTypeError\u001b[0m: unsupported operand type(s) for +: 'Value' and 'Value'"
     ]
    }
   ],
   "source": [
    "sum = np.add(enc_value_a, enc_value_b)\n",
    "\n",
    "result = np.multiply(enc_value_a, enc_value_b)\n",
    "\n",
    "dec_value = circuit.decrypt(sum)\n",
    "print(f'decrypted sum {dec_value}')\n",
    "\n",
    "dec_value = circuit.decrypt(result)\n",
    "print(f'decrypted sum {dec_value}')"
   ]
  }
 ],
 "metadata": {
  "kernelspec": {
   "display_name": "Python 3",
   "language": "python",
   "name": "python3"
  },
  "language_info": {
   "codemirror_mode": {
    "name": "ipython",
    "version": 3
   },
   "file_extension": ".py",
   "mimetype": "text/x-python",
   "name": "python",
   "nbconvert_exporter": "python",
   "pygments_lexer": "ipython3",
   "version": "3.10.12"
  }
 },
 "nbformat": 4,
 "nbformat_minor": 2
}
