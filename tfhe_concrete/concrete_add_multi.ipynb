{
 "cells": [
  {
   "cell_type": "code",
   "execution_count": 1,
   "metadata": {},
   "outputs": [],
   "source": [
    "from concrete import fhe\n",
    "import numpy as np\n",
    "from sklearn.model_selection import train_test_split"
   ]
  },
  {
   "cell_type": "code",
   "execution_count": 2,
   "metadata": {},
   "outputs": [],
   "source": [
    "lookup_table = tuple(range(256))"
   ]
  },
  {
   "cell_type": "code",
   "execution_count": 3,
   "metadata": {},
   "outputs": [],
   "source": [
    "table = fhe.LookupTable(lookup_table)"
   ]
  },
  {
   "cell_type": "code",
   "execution_count": 4,
   "metadata": {},
   "outputs": [],
   "source": [
    "@fhe.compiler({\"x\":\"encrypted\"})\n",
    "def ref_function(x):\n",
    "    return table[x]"
   ]
  },
  {
   "cell_type": "code",
   "execution_count": 6,
   "metadata": {},
   "outputs": [
    {
     "name": "stdout",
     "output_type": "stream",
     "text": [
      "range(0, 255)\n"
     ]
    }
   ],
   "source": [
    "inputset = range(0,255)\n",
    "print(inputset)\n",
    "circuit = ref_function.compile(inputset)"
   ]
  },
  {
   "cell_type": "code",
   "execution_count": 7,
   "metadata": {},
   "outputs": [
    {
     "name": "stdout",
     "output_type": "stream",
     "text": [
      "<concrete.fhe.compilation.value.Value object at 0x7f6d3012c1f0>\n",
      "<concrete.fhe.compilation.value.Value object at 0x7f6c00bad840>\n"
     ]
    }
   ],
   "source": [
    "value = 10\n",
    "enc_value = circuit.encrypt(value)\n",
    "enc_value_a = circuit.run(enc_value)\n",
    "\n",
    "value = 10\n",
    "enc_value = circuit.encrypt(value)\n",
    "enc_value_b = circuit.run(enc_value)\n",
    "\n",
    "print(enc_value_a)\n",
    "\n",
    "print(enc_value_b)"
   ]
  },
  {
   "cell_type": "code",
   "execution_count": null,
   "metadata": {},
   "outputs": [],
   "source": []
  },
  {
   "cell_type": "code",
   "execution_count": 6,
   "metadata": {},
   "outputs": [
    {
     "name": "stdout",
     "output_type": "stream",
     "text": [
      "decrypted sum 8\n"
     ]
    }
   ],
   "source": [
    "from concrete import fhe\n",
    "import numpy as np\n",
    "\n",
    "@fhe.compiler({\"x\":\"encrypted\", \"y\":\"encrypted\"})\n",
    "def add(x, y):\n",
    "    sum = np.add(x, y)\n",
    "    return sum\n",
    "\n",
    "@fhe.compiler({\"x\":\"encrypted\", \"y\":\"encrypted\"})\n",
    "def multiply(x, y):\n",
    "    sum =  x * y\n",
    "    return sum\n",
    "\n",
    "inputset = [(2, 3), (0, 0), (1, 6), (7, 7), (7, 1)]\n",
    "circuit_add = add.compile(inputset)\n",
    "\n",
    "circuit_multiply = multiply.compile(inputset)\n",
    "\n",
    "x= 4\n",
    "y =4\n",
    "enc_x, enc_y = circuit_add.encrypt(x, y)\n",
    "enc_sum = circuit_add.run(enc_x, enc_y)\n",
    "# enc_sum,enc_suma = circuit_multiply.encrypt(enc_sum,enc_sum)\n",
    "# enc_result = circuit_multiply.run(enc_x, enc_y)\n",
    "\n",
    "# sum = np.add(enc_value_a, enc_value_b)\n",
    "\n",
    "# result = np.multiply(enc_value_a, enc_value_b)\n",
    "\n",
    "dec_value = circuit_add.decrypt(enc_sum)\n",
    "print(f'decrypted sum {dec_value}')\n",
    "\n",
    "# dec_value = circuit.decrypt(result)\n",
    "# print(f'decrypted sum {dec_value}')"
   ]
  }
 ],
 "metadata": {
  "kernelspec": {
   "display_name": "Python 3",
   "language": "python",
   "name": "python3"
  },
  "language_info": {
   "codemirror_mode": {
    "name": "ipython",
    "version": 3
   },
   "file_extension": ".py",
   "mimetype": "text/x-python",
   "name": "python",
   "nbconvert_exporter": "python",
   "pygments_lexer": "ipython3",
   "version": "3.10.12"
  }
 },
 "nbformat": 4,
 "nbformat_minor": 2
}
