{
 "cells": [
  {
   "cell_type": "code",
   "execution_count": 29,
   "metadata": {},
   "outputs": [],
   "source": [
    "from concrete import fhe\n",
    "import numpy as np\n",
    "import torch\n",
    "import torchvision\n",
    "import torchvision.transforms as transforms\n",
    "import time\n",
    "\n",
    "from sklearn.model_selection import train_test_split"
   ]
  },
  {
   "cell_type": "code",
   "execution_count": 30,
   "metadata": {},
   "outputs": [],
   "source": [
    "#device configuration\n",
    "device = torch.device('cuda' if torch.cuda.is_available() else 'cpu')"
   ]
  },
  {
   "cell_type": "code",
   "execution_count": 31,
   "metadata": {},
   "outputs": [],
   "source": [
    "#hyperparams\n",
    "no_epochs = 2\n",
    "batch_size = 32\n",
    "learning_rate = 0.001"
   ]
  },
  {
   "cell_type": "code",
   "execution_count": 32,
   "metadata": {},
   "outputs": [],
   "source": [
    "#transform the dataset into tensors normalized range [-1, 1]\n",
    "transform = transforms.Compose(\n",
    "            [transforms.ToTensor(),\n",
    "            transforms.Normalize((0.5),(0.5))     \n",
    "        ])"
   ]
  },
  {
   "cell_type": "code",
   "execution_count": 33,
   "metadata": {},
   "outputs": [],
   "source": [
    "#data sets downloading and reading\n",
    "train_dataset = torchvision.datasets.MNIST(root='./data', \n",
    "                                        train=True,\n",
    "                                        download=True,\n",
    "                                        transform=transform\n",
    "                                        )\n",
    "\n",
    "test_dataset = torchvision.datasets.MNIST(root='data',\n",
    "                                        train=False,\n",
    "                                        download=True,\n",
    "                                        transform=transform\n",
    "                                        )"
   ]
  },
  {
   "cell_type": "code",
   "execution_count": 34,
   "metadata": {},
   "outputs": [
    {
     "name": "stdout",
     "output_type": "stream",
     "text": [
      "uint8\n",
      "(5000, 1, 28, 28)\n",
      "[[[[0 0 0 ... 0 0 0]\n",
      "   [0 0 0 ... 0 0 0]\n",
      "   [0 0 0 ... 0 0 0]\n",
      "   ...\n",
      "   [0 0 0 ... 0 0 0]\n",
      "   [0 0 0 ... 0 0 0]\n",
      "   [0 0 0 ... 0 0 0]]]\n",
      "\n",
      "\n",
      " [[[0 0 0 ... 0 0 0]\n",
      "   [0 0 0 ... 0 0 0]\n",
      "   [0 0 0 ... 0 0 0]\n",
      "   ...\n",
      "   [0 0 0 ... 0 0 0]\n",
      "   [0 0 0 ... 0 0 0]\n",
      "   [0 0 0 ... 0 0 0]]]\n",
      "\n",
      "\n",
      " [[[0 0 0 ... 0 0 0]\n",
      "   [0 0 0 ... 0 0 0]\n",
      "   [0 0 0 ... 0 0 0]\n",
      "   ...\n",
      "   [0 0 0 ... 0 0 0]\n",
      "   [0 0 0 ... 0 0 0]\n",
      "   [0 0 0 ... 0 0 0]]]\n",
      "\n",
      "\n",
      " ...\n",
      "\n",
      "\n",
      " [[[0 0 0 ... 0 0 0]\n",
      "   [0 0 0 ... 0 0 0]\n",
      "   [0 0 0 ... 0 0 0]\n",
      "   ...\n",
      "   [0 0 0 ... 0 0 0]\n",
      "   [0 0 0 ... 0 0 0]\n",
      "   [0 0 0 ... 0 0 0]]]\n",
      "\n",
      "\n",
      " [[[0 0 0 ... 0 0 0]\n",
      "   [0 0 0 ... 0 0 0]\n",
      "   [0 0 0 ... 0 0 0]\n",
      "   ...\n",
      "   [0 0 0 ... 0 0 0]\n",
      "   [0 0 0 ... 0 0 0]\n",
      "   [0 0 0 ... 0 0 0]]]\n",
      "\n",
      "\n",
      " [[[0 0 0 ... 0 0 0]\n",
      "   [0 0 0 ... 0 0 0]\n",
      "   [0 0 0 ... 0 0 0]\n",
      "   ...\n",
      "   [0 0 0 ... 0 0 0]\n",
      "   [0 0 0 ... 0 0 0]\n",
      "   [0 0 0 ... 0 0 0]]]]\n",
      "Shape of x_train from MNIST: (5000, 1, 28, 28)\n",
      "Shape of x_test from MNIST: (100, 1, 28, 28)\n",
      "Shape of y_train from MNIST: (5000,)\n",
      "Shape of y_test from MNIST: (100,)\n"
     ]
    }
   ],
   "source": [
    "# Extract features (images) and labels from MNIST dataset\n",
    "mnist_features = train_dataset.data.numpy().reshape(-1, 28, 28)\n",
    "mnist_labels = train_dataset.targets.numpy()\n",
    "\n",
    "# Reshape and expand dimensions to match the structure of load_digits dataset\n",
    "x_train_mnist = np.expand_dims(mnist_features, 1)\n",
    "\n",
    "# Split the MNIST data into train and test sets\n",
    "x_train, x_test, y_train, y_test = train_test_split(\n",
    "    x_train_mnist, mnist_labels,  train_size=5000, test_size=100, shuffle=True, random_state=42\n",
    ")\n",
    "\n",
    "#x_train = x_train.astype('float64')\n",
    "print(x_train.dtype)\n",
    "print(x_train.shape)\n",
    "\n",
    "print(x_train)\n",
    "# plt.imshow(x_train[0,0], cmap='grey')\n",
    "# plt.show()\n",
    "# Verify the shapes\n",
    "print(\"Shape of x_train from MNIST:\", x_train.shape)\n",
    "print(\"Shape of x_test from MNIST:\", x_test.shape)\n",
    "print(\"Shape of y_train from MNIST:\", y_train.shape)\n",
    "print(\"Shape of y_test from MNIST:\", y_test.shape)"
   ]
  },
  {
   "cell_type": "code",
   "execution_count": 35,
   "metadata": {},
   "outputs": [],
   "source": [
    "@fhe.compiler({\"image\": \"encrypted\"})\n",
    "def to_grayscale(image):\n",
    "    with fhe.tag(\"scaling.r\"):\n",
    "        r = image[:, :, 0]\n",
    "        r = (r * 0.30).astype(np.int64)\n",
    "\n",
    "    with fhe.tag(\"combining.rgb\"):\n",
    "        gray = r \n",
    "        \n",
    "    with fhe.tag(\"creating.result\"):\n",
    "        gray = np.expand_dims(gray, axis=2)\n",
    "        result = np.concatenate((gray, gray, gray), axis=2)\n",
    "    \n",
    "    return result\n"
   ]
  },
  {
   "cell_type": "code",
   "execution_count": 36,
   "metadata": {},
   "outputs": [],
   "source": [
    "configuration = fhe.Configuration(\n",
    "    enable_unsafe_features=True,\n",
    "    use_insecure_key_cache=True,\n",
    "    insecure_key_cache_location=\".keys\",\n",
    "\n",
    "    # To enable displaying progressbar\n",
    "    show_progress=True,\n",
    "    # To enable showing tags in the progressbar (does not work in notebooks)\n",
    "    progress_tag=True,\n",
    "    # To give a title to the progressbar\n",
    "    progress_title=\"Evaluation:\",\n",
    ")"
   ]
  },
  {
   "cell_type": "code",
   "execution_count": 37,
   "metadata": {},
   "outputs": [
    {
     "name": "stdout",
     "output_type": "stream",
     "text": [
      "Compilation started @ 17:52:50\n",
      "(took 0.996 seconds)\n"
     ]
    }
   ],
   "source": [
    "inputset = x_train\n",
    "print(f\"Compilation started @ {time.strftime('%H:%M:%S', time.localtime())}\")\n",
    "start = time.time()\n",
    "circuit = to_grayscale.compile(inputset, configuration)\n",
    "end = time.time()\n",
    "print(f\"(took {end - start:.3f} seconds)\")"
   ]
  },
  {
   "cell_type": "code",
   "execution_count": 38,
   "metadata": {},
   "outputs": [
    {
     "name": "stdout",
     "output_type": "stream",
     "text": [
      "Key generation started @ 17:52:51\n",
      "(took 2.382 seconds)\n",
      "\n"
     ]
    }
   ],
   "source": [
    "print(f\"Key generation started @ {time.strftime('%H:%M:%S', time.localtime())}\")\n",
    "start = time.time()\n",
    "circuit.keygen()\n",
    "end = time.time()\n",
    "print(f\"(took {end - start:.3f} seconds)\")\n",
    "\n",
    "print()"
   ]
  },
  {
   "cell_type": "code",
   "execution_count": 40,
   "metadata": {},
   "outputs": [
    {
     "name": "stdout",
     "output_type": "stream",
     "text": [
      "Evaluation started @ 17:52:56\n",
      "(took 0.503 seconds)\n"
     ]
    }
   ],
   "source": [
    "image_data_b = x_train[0]\n",
    "print(f\"Evaluation started @ {time.strftime('%H:%M:%S', time.localtime())}\")\n",
    "start = time.time()\n",
    "enc_image = circuit.encrypt(image_data_b)\n",
    "enc_image = circuit.run(enc_image)\n",
    "end = time.time()\n",
    "print(f\"(took {end - start:.3f} seconds)\")"
   ]
  },
  {
   "cell_type": "code",
   "execution_count": 98,
   "metadata": {},
   "outputs": [],
   "source": [
    "@fhe.compiler({\"x\":\"encrypted\"})\n",
    "def add(x):\n",
    "    sum =  x[0,0,0] + x[0,0,0]\n",
    "    return sum"
   ]
  },
  {
   "cell_type": "code",
   "execution_count": 101,
   "metadata": {},
   "outputs": [],
   "source": [
    "@fhe.compiler({\"x\":\"encrypted\"})\n",
    "def multiply(x):\n",
    "    sum =  x[0,0,0] * x[0,0,0]\n",
    "    return sum"
   ]
  },
  {
   "cell_type": "code",
   "execution_count": null,
   "metadata": {},
   "outputs": [],
   "source": [
    "print(x_train)\n",
    "x_train_a = x_train\n",
    "sum = x_train_a[0][0][0][0] + x_train_a[0][0][0][1]\n",
    "print(f'sum {sum}')\n",
    "\n",
    "multiply = x_train_a[0][0][0][0] * x_train_a[0][0][0][1]\n",
    "print(f'sum {multiply}')"
   ]
  },
  {
   "cell_type": "code",
   "execution_count": 105,
   "metadata": {},
   "outputs": [
    {
     "name": "stdout",
     "output_type": "stream",
     "text": [
      "0\n"
     ]
    }
   ],
   "source": [
    "x_train_a = x_train\n",
    "circuit_add = add.compile(x_train_a)\n",
    "\n",
    "enc_image = circuit_add.encrypt(x_train_a[0])\n",
    "enc_image = circuit_add.run(enc_image)\n",
    "dec_image = circuit_add.decrypt(enc_image)\n",
    "print(dec_image)"
   ]
  },
  {
   "cell_type": "code",
   "execution_count": 106,
   "metadata": {},
   "outputs": [],
   "source": [
    "circuit_multiply = multiply.compile(x_train_a)\n",
    "\n",
    "# enc_image = circuit_multiply.encrypt(x_train_a[0])\n",
    "enc_image = circuit_multiply.run(enc_image)\n",
    "dec_image = circuit_multiply.decrypt(enc_image)\n",
    "print(dec_image)"
   ]
  }
 ],
 "metadata": {
  "kernelspec": {
   "display_name": "Python 3",
   "language": "python",
   "name": "python3"
  },
  "language_info": {
   "codemirror_mode": {
    "name": "ipython",
    "version": 3
   },
   "file_extension": ".py",
   "mimetype": "text/x-python",
   "name": "python",
   "nbconvert_exporter": "python",
   "pygments_lexer": "ipython3",
   "version": "3.10.12"
  }
 },
 "nbformat": 4,
 "nbformat_minor": 2
}
