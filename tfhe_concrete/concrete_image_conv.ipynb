{
 "cells": [
  {
   "cell_type": "code",
   "execution_count": 44,
   "metadata": {},
   "outputs": [],
   "source": [
    "from concrete import fhe\n",
    "import numpy as np\n",
    "import torch\n",
    "import torchvision\n",
    "import torchvision.transforms as transforms\n",
    "import time\n",
    "\n",
    "from sklearn.model_selection import train_test_split"
   ]
  },
  {
   "cell_type": "code",
   "execution_count": 45,
   "metadata": {},
   "outputs": [],
   "source": [
    "#device configuration\n",
    "device = torch.device('cuda' if torch.cuda.is_available() else 'cpu')"
   ]
  },
  {
   "cell_type": "code",
   "execution_count": 46,
   "metadata": {},
   "outputs": [],
   "source": [
    "#hyperparams\n",
    "no_epochs = 2\n",
    "batch_size = 32\n",
    "learning_rate = 0.001"
   ]
  },
  {
   "cell_type": "code",
   "execution_count": 47,
   "metadata": {},
   "outputs": [],
   "source": [
    "#transform the dataset into tensors normalized range [-1, 1]\n",
    "transform = transforms.Compose(\n",
    "            [transforms.ToTensor(),\n",
    "            transforms.Normalize((0.5),(0.5))     \n",
    "        ])"
   ]
  },
  {
   "cell_type": "code",
   "execution_count": 48,
   "metadata": {},
   "outputs": [],
   "source": [
    "#data sets downloading and reading\n",
    "train_dataset = torchvision.datasets.MNIST(root='./data', \n",
    "                                        train=True,\n",
    "                                        download=True,\n",
    "                                        transform=transform\n",
    "                                        )\n",
    "\n",
    "test_dataset = torchvision.datasets.MNIST(root='data',\n",
    "                                        train=False,\n",
    "                                        download=True,\n",
    "                                        transform=transform\n",
    "                                        )"
   ]
  },
  {
   "cell_type": "code",
   "execution_count": 49,
   "metadata": {},
   "outputs": [
    {
     "name": "stdout",
     "output_type": "stream",
     "text": [
      "uint8\n",
      "(5000, 1, 28, 28)\n",
      "[[[[0 0 0 ... 0 0 0]\n",
      "   [0 0 0 ... 0 0 0]\n",
      "   [0 0 0 ... 0 0 0]\n",
      "   ...\n",
      "   [0 0 0 ... 0 0 0]\n",
      "   [0 0 0 ... 0 0 0]\n",
      "   [0 0 0 ... 0 0 0]]]\n",
      "\n",
      "\n",
      " [[[0 0 0 ... 0 0 0]\n",
      "   [0 0 0 ... 0 0 0]\n",
      "   [0 0 0 ... 0 0 0]\n",
      "   ...\n",
      "   [0 0 0 ... 0 0 0]\n",
      "   [0 0 0 ... 0 0 0]\n",
      "   [0 0 0 ... 0 0 0]]]\n",
      "\n",
      "\n",
      " [[[0 0 0 ... 0 0 0]\n",
      "   [0 0 0 ... 0 0 0]\n",
      "   [0 0 0 ... 0 0 0]\n",
      "   ...\n",
      "   [0 0 0 ... 0 0 0]\n",
      "   [0 0 0 ... 0 0 0]\n",
      "   [0 0 0 ... 0 0 0]]]\n",
      "\n",
      "\n",
      " ...\n",
      "\n",
      "\n",
      " [[[0 0 0 ... 0 0 0]\n",
      "   [0 0 0 ... 0 0 0]\n",
      "   [0 0 0 ... 0 0 0]\n",
      "   ...\n",
      "   [0 0 0 ... 0 0 0]\n",
      "   [0 0 0 ... 0 0 0]\n",
      "   [0 0 0 ... 0 0 0]]]\n",
      "\n",
      "\n",
      " [[[0 0 0 ... 0 0 0]\n",
      "   [0 0 0 ... 0 0 0]\n",
      "   [0 0 0 ... 0 0 0]\n",
      "   ...\n",
      "   [0 0 0 ... 0 0 0]\n",
      "   [0 0 0 ... 0 0 0]\n",
      "   [0 0 0 ... 0 0 0]]]\n",
      "\n",
      "\n",
      " [[[0 0 0 ... 0 0 0]\n",
      "   [0 0 0 ... 0 0 0]\n",
      "   [0 0 0 ... 0 0 0]\n",
      "   ...\n",
      "   [0 0 0 ... 0 0 0]\n",
      "   [0 0 0 ... 0 0 0]\n",
      "   [0 0 0 ... 0 0 0]]]]\n",
      "Shape of x_train from MNIST: (5000, 1, 28, 28)\n",
      "Shape of x_test from MNIST: (100, 1, 28, 28)\n",
      "Shape of y_train from MNIST: (5000,)\n",
      "Shape of y_test from MNIST: (100,)\n"
     ]
    }
   ],
   "source": [
    "# Extract features (images) and labels from MNIST dataset\n",
    "mnist_features = train_dataset.data.numpy().reshape(-1, 28, 28)\n",
    "mnist_labels = train_dataset.targets.numpy()\n",
    "\n",
    "# Reshape and expand dimensions to match the structure of load_digits dataset\n",
    "x_train_mnist = np.expand_dims(mnist_features, 1)\n",
    "\n",
    "# Split the MNIST data into train and test sets\n",
    "x_train, x_test, y_train, y_test = train_test_split(\n",
    "    x_train_mnist, mnist_labels,  train_size=5000, test_size=100, shuffle=True, random_state=42\n",
    ")\n",
    "\n",
    "#x_train = x_train.astype('float64')\n",
    "print(x_train.dtype)\n",
    "print(x_train.shape)\n",
    "\n",
    "print(x_train)\n",
    "# plt.imshow(x_train[0,0], cmap='grey')\n",
    "# plt.show()\n",
    "# Verify the shapes\n",
    "print(\"Shape of x_train from MNIST:\", x_train.shape)\n",
    "print(\"Shape of x_test from MNIST:\", x_test.shape)\n",
    "print(\"Shape of y_train from MNIST:\", y_train.shape)\n",
    "print(\"Shape of y_test from MNIST:\", y_test.shape)"
   ]
  },
  {
   "cell_type": "code",
   "execution_count": 50,
   "metadata": {},
   "outputs": [],
   "source": [
    "@fhe.compiler({\"image\": \"encrypted\"})\n",
    "def to_grayscale(image):\n",
    "    with fhe.tag(\"scaling.r\"):\n",
    "        r = image[:, :, 0]\n",
    "        r = (r * 0.30).astype(np.int64)\n",
    "\n",
    "    with fhe.tag(\"combining.rgb\"):\n",
    "        gray = r \n",
    "        \n",
    "    with fhe.tag(\"creating.result\"):\n",
    "        gray = np.expand_dims(gray, axis=2)\n",
    "        result = np.concatenate((gray, gray, gray), axis=2)\n",
    "    \n",
    "    return result\n"
   ]
  },
  {
   "cell_type": "code",
   "execution_count": 51,
   "metadata": {},
   "outputs": [],
   "source": [
    "configuration = fhe.Configuration(\n",
    "    enable_unsafe_features=True,\n",
    "    use_insecure_key_cache=True,\n",
    "    insecure_key_cache_location=\".keys\",\n",
    "\n",
    "    # To enable displaying progressbar\n",
    "    show_progress=True,\n",
    "    # To enable showing tags in the progressbar (does not work in notebooks)\n",
    "    progress_tag=True,\n",
    "    # To give a title to the progressbar\n",
    "    progress_title=\"Evaluation:\",\n",
    ")"
   ]
  },
  {
   "cell_type": "code",
   "execution_count": 52,
   "metadata": {},
   "outputs": [
    {
     "name": "stdout",
     "output_type": "stream",
     "text": [
      "Compilation started @ 19:20:35\n",
      "(took 0.969 seconds)\n"
     ]
    }
   ],
   "source": [
    "inputset = x_train\n",
    "print(f\"Compilation started @ {time.strftime('%H:%M:%S', time.localtime())}\")\n",
    "start = time.time()\n",
    "circuit = to_grayscale.compile(inputset, configuration)\n",
    "end = time.time()\n",
    "print(f\"(took {end - start:.3f} seconds)\")"
   ]
  },
  {
   "cell_type": "code",
   "execution_count": 53,
   "metadata": {},
   "outputs": [
    {
     "name": "stdout",
     "output_type": "stream",
     "text": [
      "Key generation started @ 19:20:40\n",
      "(took 1.587 seconds)\n",
      "\n"
     ]
    }
   ],
   "source": [
    "print(f\"Key generation started @ {time.strftime('%H:%M:%S', time.localtime())}\")\n",
    "start = time.time()\n",
    "circuit.keygen()\n",
    "end = time.time()\n",
    "print(f\"(took {end - start:.3f} seconds)\")\n",
    "\n",
    "print()"
   ]
  },
  {
   "cell_type": "code",
   "execution_count": 54,
   "metadata": {},
   "outputs": [
    {
     "name": "stdout",
     "output_type": "stream",
     "text": [
      "Evaluation started @ 19:20:46\n",
      "           __________________________________________________\n",
      "Evaluation:████ 100%\n",
      "(took 15.184 seconds)\n"
     ]
    }
   ],
   "source": [
    "image_data_b = x_train[0]\n",
    "print(f\"Evaluation started @ {time.strftime('%H:%M:%S', time.localtime())}\")\n",
    "start = time.time()\n",
    "enc_image = circuit.encrypt(image_data_b)\n",
    "enc_image = circuit.run(enc_image)\n",
    "end = time.time()\n",
    "print(f\"(took {end - start:.3f} seconds)\")"
   ]
  },
  {
   "cell_type": "code",
   "execution_count": 72,
   "metadata": {},
   "outputs": [
    {
     "name": "stdout",
     "output_type": "stream",
     "text": [
      "sum 0\n",
      "multi 0\n"
     ]
    }
   ],
   "source": [
    "#print(x_train)\n",
    "x_train_a = x_train\n",
    "sum = x_train_a[0][0][0][0] + x_train_a[0][0][0][1]\n",
    "print(f'sum {sum}')\n",
    "\n",
    "multiply = x_train_a[0][0][0][0] * x_train_a[0][0][0][1]\n",
    "print(f'multi {multiply}')"
   ]
  },
  {
   "cell_type": "code",
   "execution_count": 76,
   "metadata": {},
   "outputs": [],
   "source": [
    "@fhe.compiler({\"x\":\"encrypted\"})\n",
    "def add(x):\n",
    "    sum =  x[0,0,0] + x[0,0,0]\n",
    "    return sum"
   ]
  },
  {
   "cell_type": "code",
   "execution_count": 77,
   "metadata": {},
   "outputs": [
    {
     "name": "stdout",
     "output_type": "stream",
     "text": [
      "Tracer<output=EncryptedScalar<uint8>>\n",
      "150\n"
     ]
    }
   ],
   "source": [
    "x_train_a = x_train\n",
    "circuit_add = add.compile(x_train_a)\n",
    "\n",
    "enc_image_data = circuit_add.encrypt(x_train_a[0])\n",
    "enc_image_add = circuit_add.run(enc_image_data)\n",
    "dec_image = circuit_add.decrypt(enc_image)\n",
    "print(dec_image)"
   ]
  },
  {
   "cell_type": "code",
   "execution_count": 62,
   "metadata": {},
   "outputs": [],
   "source": [
    "@fhe.compiler({\"x\":\"encrypted\"})\n",
    "def multiply(x):\n",
    "    sum =  x[0,0,0] * x[0,0,0]\n",
    "    return sum"
   ]
  },
  {
   "cell_type": "code",
   "execution_count": 63,
   "metadata": {},
   "outputs": [
    {
     "name": "stdout",
     "output_type": "stream",
     "text": [
      "0\n"
     ]
    }
   ],
   "source": [
    "circuit_multiply = multiply.compile(x_train_a)\n",
    "\n",
    "#enc_image = circuit_multiply.encrypt(x_train_a[0])\n",
    "enc_image_multiply = circuit_multiply.run(enc_image_data)\n",
    "dec_image = circuit_multiply.decrypt(enc_image_multiply)\n",
    "print(dec_image)"
   ]
  },
  {
   "cell_type": "code",
   "execution_count": 64,
   "metadata": {},
   "outputs": [
    {
     "name": "stdout",
     "output_type": "stream",
     "text": [
      "(0, 0, 0, 0, 0, 0, 0, 0, 0, 0, 0, 0, 0, 0, 0, 0, 0, 0, 0, 0, 0, 0, 0, 0, 0, 0, 0, 0, 0, 0, 0, 0, 0, 0, 0, 0, 0, 0, 0, 0, 0, 0, 0, 0, 0, 0, 0, 0, 0, 0, 0, 0, 0, 0, 0, 0, 0, 0, 0, 0, 0, 0, 0, 0, 0, 0, 0, 0, 0, 0, 0, 0, 0, 0, 0, 0, 0, 0, 0, 0, 0, 0, 0, 0, 0, 0, 0, 0, 0, 0, 0, 0, 0, 0, 0, 0, 0, 0, 0, 0, 0, 0, 0, 0, 0, 0, 0, 0, 0, 0, 0, 0, 0, 0, 0, 0, 0, 0, 0, 0, 0, 0, 0, 0, 0, 0, 0, 0, 1, 1, 1, 1, 1, 1, 1, 1, 1, 1, 1, 1, 1, 1, 1, 1, 1, 1, 1, 1, 1, 1, 1, 1, 1, 1, 1, 1, 1, 1, 1, 1, 1, 1, 1, 1, 1, 1, 1, 1, 1, 1, 1, 1, 1, 1, 1, 1, 1, 1, 1, 1, 1, 1, 1, 1, 1, 1, 1, 1, 1, 1, 1, 1, 1, 1, 1, 1, 1, 1, 1, 1, 1, 1, 1, 1, 1, 1, 1, 1, 1, 1, 1, 1, 1, 1, 1, 1, 1, 1, 1, 1, 1, 1, 1, 1, 1, 1, 1, 1, 1, 1, 1, 1, 1, 1, 1, 1, 1, 1, 1, 1, 1, 1, 1, 1, 1, 1, 1, 1, 1, 1, 1, 1, 1, 1, 1, 1)\n"
     ]
    }
   ],
   "source": [
    "#lookup_table = tuple(range(256))\n",
    "\n",
    "lookup_table = (0,) * 128 + (1,) * 128\n",
    "\n",
    "lookup_table \n",
    "print(lookup_table)"
   ]
  },
  {
   "cell_type": "code",
   "execution_count": 65,
   "metadata": {},
   "outputs": [],
   "source": [
    "table = fhe.LookupTable(lookup_table)"
   ]
  },
  {
   "cell_type": "code",
   "execution_count": 66,
   "metadata": {},
   "outputs": [],
   "source": [
    "@fhe.compiler({\"x\":\"encrypted\"})\n",
    "def spike_function(x):\n",
    "    return table[x]"
   ]
  },
  {
   "cell_type": "code",
   "execution_count": 67,
   "metadata": {},
   "outputs": [
    {
     "name": "stdout",
     "output_type": "stream",
     "text": [
      "range(0, 255)\n"
     ]
    }
   ],
   "source": [
    "inputset = range(0,255)\n",
    "print(inputset)\n",
    "circuit_spiking = spike_function.compile(inputset)"
   ]
  },
  {
   "cell_type": "code",
   "execution_count": 68,
   "metadata": {},
   "outputs": [
    {
     "name": "stdout",
     "output_type": "stream",
     "text": [
      "<concrete.fhe.compilation.value.Value object at 0x7efcd4c3ceb0>\n",
      "<concrete.fhe.compilation.value.Value object at 0x7efcd4c3cac0>\n",
      "<concrete.fhe.compilation.value.Value object at 0x7efcd4dccf40>\n",
      "<concrete.fhe.compilation.value.Value object at 0x7efcd4dccf40>\n"
     ]
    }
   ],
   "source": [
    "value = 10\n",
    "enc_value = circuit_spiking.encrypt(value)\n",
    "enc_value_a = circuit_spiking.run(enc_value)\n",
    "\n",
    "value = 140\n",
    "enc_value = circuit_spiking.encrypt(value)\n",
    "enc_value_b = circuit_spiking.run(enc_value)\n",
    "\n",
    "enc_value_c = circuit_spiking.run(enc_image_add)\n",
    "enc_value_d = circuit_spiking.run(enc_image_multiply)\n",
    "\n",
    "print(enc_value_a)\n",
    "print(enc_value_b)\n",
    "print(enc_value_c)\n",
    "print(enc_value_c)"
   ]
  },
  {
   "cell_type": "code",
   "execution_count": 70,
   "metadata": {},
   "outputs": [
    {
     "name": "stdout",
     "output_type": "stream",
     "text": [
      "decrypted enc_value_a 0\n",
      "decrypted enc_value_b 1\n",
      "decrypted enc_value_c 0\n",
      "decrypted enc_value_d 0\n"
     ]
    }
   ],
   "source": [
    "dec_value = circuit_spiking.decrypt(enc_value_a)\n",
    "print(f'decrypted enc_value_a {dec_value}')\n",
    "\n",
    "dec_value = circuit_spiking.decrypt(enc_value_b)\n",
    "print(f'decrypted enc_value_b {dec_value}')\n",
    "\n",
    "dec_value = circuit_spiking.decrypt(enc_value_c)\n",
    "print(f'decrypted enc_value_c {dec_value}')\n",
    "\n",
    "dec_value = circuit_spiking.decrypt(enc_value_d)\n",
    "print(f'decrypted enc_value_d {dec_value}')"
   ]
  }
 ],
 "metadata": {
  "kernelspec": {
   "display_name": "Python 3",
   "language": "python",
   "name": "python3"
  },
  "language_info": {
   "codemirror_mode": {
    "name": "ipython",
    "version": 3
   },
   "file_extension": ".py",
   "mimetype": "text/x-python",
   "name": "python",
   "nbconvert_exporter": "python",
   "pygments_lexer": "ipython3",
   "version": "3.10.12"
  }
 },
 "nbformat": 4,
 "nbformat_minor": 2
}
