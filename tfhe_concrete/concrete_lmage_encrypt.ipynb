{
 "cells": [
  {
   "cell_type": "code",
   "execution_count": 11,
   "metadata": {},
   "outputs": [],
   "source": [
    "from concrete import fhe\n",
    "import numpy as np\n",
    "\n",
    "import torch\n",
    "import torch.nn as nn\n",
    "import torch.nn.functional as functional\n",
    "import torchvision\n",
    "import torchvision.transforms as transforms\n",
    "import numpy as np\n",
    "from tqdm import tqdm\n",
    "from torchsummary import summary\n",
    "\n",
    "from norse.torch.functional.lif import LIFParameters\n",
    "import norse.torch as snn\n",
    "\n",
    "from sklearn.model_selection import train_test_split\n",
    "import time"
   ]
  },
  {
   "cell_type": "code",
   "execution_count": 12,
   "metadata": {},
   "outputs": [],
   "source": [
    "#device configuration\n",
    "device = torch.device('cuda' if torch.cuda.is_available() else 'cpu')"
   ]
  },
  {
   "cell_type": "code",
   "execution_count": 13,
   "metadata": {},
   "outputs": [],
   "source": [
    "#hyperparams\n",
    "no_epochs = 2\n",
    "batch_size = 32\n",
    "learning_rate = 0.001"
   ]
  },
  {
   "cell_type": "code",
   "execution_count": 14,
   "metadata": {},
   "outputs": [],
   "source": [
    "#transform the dataset into tensors normalized range [-1, 1]\n",
    "transform = transforms.Compose(\n",
    "            [transforms.ToTensor(),\n",
    "            transforms.Normalize((0.5),(0.5))     \n",
    "        ])"
   ]
  },
  {
   "cell_type": "code",
   "execution_count": 15,
   "metadata": {},
   "outputs": [],
   "source": [
    "#data sets downloading and reading\n",
    "train_dataset = torchvision.datasets.MNIST(root='./data', \n",
    "                                        train=True,\n",
    "                                        download=True,\n",
    "                                        transform=transform\n",
    "                                        )\n",
    "\n",
    "test_dataset = torchvision.datasets.MNIST(root='data',\n",
    "                                        train=False,\n",
    "                                        download=True,\n",
    "                                        transform=transform\n",
    "                                        )\n"
   ]
  },
  {
   "cell_type": "code",
   "execution_count": 16,
   "metadata": {},
   "outputs": [
    {
     "name": "stdout",
     "output_type": "stream",
     "text": [
      "uint8\n",
      "(5000, 1, 28, 28)\n",
      "[[[[0 0 0 ... 0 0 0]\n",
      "   [0 0 0 ... 0 0 0]\n",
      "   [0 0 0 ... 0 0 0]\n",
      "   ...\n",
      "   [0 0 0 ... 0 0 0]\n",
      "   [0 0 0 ... 0 0 0]\n",
      "   [0 0 0 ... 0 0 0]]]\n",
      "\n",
      "\n",
      " [[[0 0 0 ... 0 0 0]\n",
      "   [0 0 0 ... 0 0 0]\n",
      "   [0 0 0 ... 0 0 0]\n",
      "   ...\n",
      "   [0 0 0 ... 0 0 0]\n",
      "   [0 0 0 ... 0 0 0]\n",
      "   [0 0 0 ... 0 0 0]]]\n",
      "\n",
      "\n",
      " [[[0 0 0 ... 0 0 0]\n",
      "   [0 0 0 ... 0 0 0]\n",
      "   [0 0 0 ... 0 0 0]\n",
      "   ...\n",
      "   [0 0 0 ... 0 0 0]\n",
      "   [0 0 0 ... 0 0 0]\n",
      "   [0 0 0 ... 0 0 0]]]\n",
      "\n",
      "\n",
      " ...\n",
      "\n",
      "\n",
      " [[[0 0 0 ... 0 0 0]\n",
      "   [0 0 0 ... 0 0 0]\n",
      "   [0 0 0 ... 0 0 0]\n",
      "   ...\n",
      "   [0 0 0 ... 0 0 0]\n",
      "   [0 0 0 ... 0 0 0]\n",
      "   [0 0 0 ... 0 0 0]]]\n",
      "\n",
      "\n",
      " [[[0 0 0 ... 0 0 0]\n",
      "   [0 0 0 ... 0 0 0]\n",
      "   [0 0 0 ... 0 0 0]\n",
      "   ...\n",
      "   [0 0 0 ... 0 0 0]\n",
      "   [0 0 0 ... 0 0 0]\n",
      "   [0 0 0 ... 0 0 0]]]\n",
      "\n",
      "\n",
      " [[[0 0 0 ... 0 0 0]\n",
      "   [0 0 0 ... 0 0 0]\n",
      "   [0 0 0 ... 0 0 0]\n",
      "   ...\n",
      "   [0 0 0 ... 0 0 0]\n",
      "   [0 0 0 ... 0 0 0]\n",
      "   [0 0 0 ... 0 0 0]]]]\n",
      "Shape of x_train from MNIST: (5000, 1, 28, 28)\n",
      "Shape of x_test from MNIST: (100, 1, 28, 28)\n",
      "Shape of y_train from MNIST: (5000,)\n",
      "Shape of y_test from MNIST: (100,)\n"
     ]
    }
   ],
   "source": [
    "# Extract features (images) and labels from MNIST dataset\n",
    "mnist_features = train_dataset.data.numpy().reshape(-1, 28, 28)\n",
    "mnist_labels = train_dataset.targets.numpy()\n",
    "\n",
    "# Reshape and expand dimensions to match the structure of load_digits dataset\n",
    "x_train_mnist = np.expand_dims(mnist_features, 1)\n",
    "\n",
    "# Split the MNIST data into train and test sets\n",
    "x_train, x_test, y_train, y_test = train_test_split(\n",
    "    x_train_mnist, mnist_labels,  train_size=5000, test_size=100, shuffle=True, random_state=42\n",
    ")\n",
    "\n",
    "#x_train = x_train.astype('float64')\n",
    "print(x_train.dtype)\n",
    "print(x_train.shape)\n",
    "\n",
    "print(x_train)\n",
    "# plt.imshow(x_train[0,0], cmap='grey')\n",
    "# plt.show()\n",
    "# Verify the shapes\n",
    "print(\"Shape of x_train from MNIST:\", x_train.shape)\n",
    "print(\"Shape of x_test from MNIST:\", x_test.shape)\n",
    "print(\"Shape of y_train from MNIST:\", y_train.shape)\n",
    "print(\"Shape of y_test from MNIST:\", y_test.shape)"
   ]
  },
  {
   "cell_type": "code",
   "execution_count": 17,
   "metadata": {},
   "outputs": [
    {
     "name": "stdout",
     "output_type": "stream",
     "text": [
      "(0, 1, 2, 3, 4, 5, 6, 7, 8, 9, 10, 11, 12, 13, 14, 15, 16, 17, 18, 19, 20, 21, 22, 23, 24, 25, 26, 27, 28, 29, 30, 31, 32, 33, 34, 35, 36, 37, 38, 39, 40, 41, 42, 43, 44, 45, 46, 47, 48, 49, 50, 51, 52, 53, 54, 55, 56, 57, 58, 59, 60, 61, 62, 63, 64, 65, 66, 67, 68, 69, 70, 71, 72, 73, 74, 75, 76, 77, 78, 79, 80, 81, 82, 83, 84, 85, 86, 87, 88, 89, 90, 91, 92, 93, 94, 95, 96, 97, 98, 99, 100, 101, 102, 103, 104, 105, 106, 107, 108, 109, 110, 111, 112, 113, 114, 115, 116, 117, 118, 119, 120, 121, 122, 123, 124, 125, 126, 127, 128, 129, 130, 131, 132, 133, 134, 135, 136, 137, 138, 139, 140, 141, 142, 143, 144, 145, 146, 147, 148, 149, 150, 151, 152, 153, 154, 155, 156, 157, 158, 159, 160, 161, 162, 163, 164, 165, 166, 167, 168, 169, 170, 171, 172, 173, 174, 175, 176, 177, 178, 179, 180, 181, 182, 183, 184, 185, 186, 187, 188, 189, 190, 191, 192, 193, 194, 195, 196, 197, 198, 199, 200, 201, 202, 203, 204, 205, 206, 207, 208, 209, 210, 211, 212, 213, 214, 215, 216, 217, 218, 219, 220, 221, 222, 223, 224, 225, 226, 227, 228, 229, 230, 231, 232, 233, 234, 235, 236, 237, 238, 239, 240, 241, 242, 243, 244, 245, 246, 247, 248, 249, 250, 251, 252, 253, 254)\n"
     ]
    }
   ],
   "source": [
    "lookup_table = tuple(range(255))\n",
    "print(lookup_table)"
   ]
  },
  {
   "cell_type": "code",
   "execution_count": 18,
   "metadata": {},
   "outputs": [],
   "source": [
    "table = fhe.LookupTable(lookup_table)"
   ]
  },
  {
   "cell_type": "code",
   "execution_count": 19,
   "metadata": {},
   "outputs": [],
   "source": [
    "@fhe.compiler({\"x\":\"encrypted\"})\n",
    "def ref_function(x):\n",
    "    return table[x]"
   ]
  },
  {
   "cell_type": "code",
   "execution_count": 20,
   "metadata": {},
   "outputs": [
    {
     "name": "stdout",
     "output_type": "stream",
     "text": [
      "range(0, 255)\n"
     ]
    }
   ],
   "source": [
    "inputset = range(0,255)\n",
    "print(inputset)\n",
    "circuit = ref_function.compile(inputset)"
   ]
  },
  {
   "cell_type": "code",
   "execution_count": 21,
   "metadata": {},
   "outputs": [],
   "source": [
    "\n",
    "# take an MNIST image then encrypt it\n",
    "encrypted_x_train = np.empty_like(x_train, dtype=object)\n",
    "\n",
    "start = time.time()\n",
    "for i, x_train_row in enumerate(x_train):\n",
    "    for j, x_train_cell in enumerate(x_train_row):\n",
    "        for k, row in enumerate(x_train_cell):\n",
    "            for l, cell in enumerate(row):\n",
    "                # Encrypt the cell value using circuit.encrypt\n",
    "                enc_value = circuit.encrypt(cell)\n",
    "                enc_value = circuit.run(enc_value)\n",
    "                encrypted_x_train[i, j, k, l] = enc_value\n",
    "                # print(enc_value)\n",
    "        break \n",
    "\n",
    "end = time.time()\n",
    "print(f' value encrypt time : {end - start:.3f} seconds')\n",
    "print(encrypted_x_train)"
   ]
  },
  {
   "cell_type": "code",
   "execution_count": null,
   "metadata": {},
   "outputs": [],
   "source": [
    "decrypted_x_train = np.empty_like(x_train, dtype=int)\n",
    "\n",
    "start = time.time()\n",
    "for i, x_train_row in enumerate(encrypted_x_train):\n",
    "    for j, x_train_cell in enumerate(x_train_row):\n",
    "        for k, row in enumerate(x_train_cell):\n",
    "            for l, cell in enumerate(row):\n",
    "                # Encrypt the cell value using circuit.encrypt\n",
    "                enc_value = circuit.run(cell)\n",
    "                dec_value = circuit.decrypt(enc_value)\n",
    "                decrypted_x_train[i, j, k, l] = dec_value\n",
    "                # print(dec_value)\n",
    "\n",
    "end = time.time()\n",
    "print(f' value encrypt time : {end - start:.3f} seconds')\n",
    "print(decrypted_x_train)"
   ]
  },
  {
   "cell_type": "code",
   "execution_count": 164,
   "metadata": {},
   "outputs": [
    {
     "name": "stdout",
     "output_type": "stream",
     "text": [
      "1\n"
     ]
    }
   ],
   "source": [
    "value = -49\n",
    "\n",
    "enc_value  = circuit.encrypt(value)\n",
    "enc_value = circuit.run(enc_value)\n",
    "dec_value = circuit.decrypt(enc_value)\n",
    "print(dec_value)"
   ]
  },
  {
   "cell_type": "code",
   "execution_count": 147,
   "metadata": {},
   "outputs": [
    {
     "name": "stdout",
     "output_type": "stream",
     "text": [
      "0\n"
     ]
    }
   ],
   "source": [
    "c_val = circuit.encrypt_run_decrypt(0)\n",
    "\n",
    "print(c_val)"
   ]
  }
 ],
 "metadata": {
  "kernelspec": {
   "display_name": "Python 3",
   "language": "python",
   "name": "python3"
  },
  "language_info": {
   "codemirror_mode": {
    "name": "ipython",
    "version": 3
   },
   "file_extension": ".py",
   "mimetype": "text/x-python",
   "name": "python",
   "nbconvert_exporter": "python",
   "pygments_lexer": "ipython3",
   "version": "3.10.12"
  }
 },
 "nbformat": 4,
 "nbformat_minor": 2
}
